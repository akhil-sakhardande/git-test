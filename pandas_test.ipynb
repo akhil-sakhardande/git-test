{
 "cells": [
  {
   "cell_type": "markdown",
   "metadata": {},
   "source": [
    "# Python learn"
   ]
  },
  {
   "cell_type": "code",
   "execution_count": 5,
   "metadata": {},
   "outputs": [
    {
     "name": "stdout",
     "output_type": "stream",
     "text": [
      "[1, 2, 3, 4, 5]\n"
     ]
    }
   ],
   "source": [
    "# simple for loop\n",
    "\n",
    "list1=[]\n",
    "for i in range(1,6):\n",
    "    list1.append(i)\n",
    "\n",
    "print(list1)"
   ]
  },
  {
   "cell_type": "code",
   "execution_count": 10,
   "metadata": {},
   "outputs": [
    {
     "data": {
      "text/plain": [
       "[1, 2, 3, 4, 5]"
      ]
     },
     "execution_count": 10,
     "metadata": {},
     "output_type": "execute_result"
    }
   ],
   "source": [
    "# list comprehensions\n",
    "[i for i in range(1,6)]"
   ]
  },
  {
   "cell_type": "code",
   "execution_count": 12,
   "metadata": {},
   "outputs": [
    {
     "data": {
      "text/plain": [
       "[1, 3, 5]"
      ]
     },
     "execution_count": 12,
     "metadata": {},
     "output_type": "execute_result"
    }
   ],
   "source": [
    "# testing list comprehension\n",
    "\n",
    "[i for i in range(1,6) if not i%2==0]"
   ]
  },
  {
   "cell_type": "markdown",
   "metadata": {},
   "source": [
    "## Pandas"
   ]
  },
  {
   "cell_type": "code",
   "execution_count": 63,
   "metadata": {
    "collapsed": true
   },
   "outputs": [],
   "source": [
    "import pandas as pd\n",
    "import numpy as np"
   ]
  },
  {
   "cell_type": "code",
   "execution_count": 64,
   "metadata": {},
   "outputs": [
    {
     "name": "stdout",
     "output_type": "stream",
     "text": [
      "# packages in environment at /Users/akhil.sakhardande/anaconda3:\r\n",
      "#\r\n",
      "# Name                    Version                   Build  Channel\r\n",
      "_ipyw_jlab_nb_ext_conf    0.1.0            py36h2fc01ae_0  \r\n",
      "absl-py                   0.4.1                     <pip>\r\n",
      "alabaster                 0.7.10           py36h174008c_0  \r\n",
      "anaconda                  custom           py36ha4fed55_0  \r\n",
      "anaconda-client           1.6.5            py36h04cfe59_0  \r\n",
      "anaconda-navigator        1.6.9            py36ha31b149_0  \r\n",
      "anaconda-project          0.8.0            py36h99320b2_0  \r\n",
      "appnope                   0.1.0            py36hf537a9a_0  \r\n",
      "appscript                 1.0.1            py36h9e71e49_1  \r\n",
      "asn1crypto                0.22.0           py36hb705621_1  \r\n",
      "astor                     0.7.1                     <pip>\r\n",
      "astroid                   1.5.3            py36h1333018_0  \r\n",
      "astropy                   2.0.2            py36hf79c81d_4  \r\n",
      "attrs                     18.2.0                    <pip>\r\n",
      "autobahn                  18.8.2                    <pip>\r\n",
      "Automat                   0.7.0                     <pip>\r\n",
      "babel                     2.5.0            py36h9f161ff_0  \r\n",
      "backports                 1.0              py36ha3c1827_1  \r\n",
      "backports.shutil_get_terminal_size 1.0.0            py36hd7a2ee4_2  \r\n",
      "beautifulsoup4            4.6.0            py36h72d3c9f_1  \r\n",
      "bitarray                  0.8.1            py36h20fa61d_0  \r\n",
      "bkcharts                  0.2              py36h073222e_0  \r\n",
      "blaze                     0.11.3           py36h02e7a37_0  \r\n",
      "bleach                    2.0.0            py36h8fcea71_0  \r\n",
      "bokeh                     0.12.10          py36hfd5be35_0  \r\n",
      "boto                      2.48.0           py36hdbc59ac_1  \r\n",
      "bottleneck                1.2.1            py36hbd380ad_0  \r\n",
      "bzip2                     1.0.6                h92991f9_1  \r\n",
      "ca-certificates           2018.03.07                    0  \r\n",
      "certifi                   2018.8.24                py36_1  \r\n",
      "cffi                      1.10.0           py36h880867e_1  \r\n",
      "chardet                   3.0.4            py36h96c241c_1  \r\n",
      "click                     6.7              py36hec950be_0  \r\n",
      "cloudpickle               0.4.0            py36h13b7e56_0  \r\n",
      "clyent                    1.2.2            py36hae3ad88_0  \r\n",
      "colorama                  0.3.9            py36hd29a30c_0  \r\n",
      "conda                     4.5.11                   py36_0  \r\n",
      "conda-build               3.0.27           py36hb78d8cd_0  \r\n",
      "conda-env                 2.6.0                         0    conda-forge\r\n",
      "conda-verify              2.0.0            py36he837df3_0  \r\n",
      "constantly                15.1.0                    <pip>\r\n",
      "contextlib2               0.5.5            py36hd66e5e7_0  \r\n",
      "cryptography              2.0.3            py36h22d4226_1  \r\n",
      "curl                      7.55.1               h7601780_3  \r\n",
      "cycler                    0.10.0           py36hfc81398_0  \r\n",
      "cython                    0.26.1           py36hd51f8eb_0  \r\n",
      "cytoolz                   0.8.2            py36h290905f_0  \r\n",
      "dask                      0.15.3           py36hc3ad2d6_0  \r\n",
      "dask-core                 0.15.3           py36hc0be6b7_0  \r\n",
      "datashape                 0.5.4            py36hfb22df8_0  \r\n",
      "dbus                      1.10.22              h50d9ad6_0  \r\n",
      "decorator                 4.1.2            py36h69a1b52_0  \r\n",
      "distributed               1.19.1           py36h4ae75d2_0  \r\n",
      "docutils                  0.14             py36hbfde631_0  \r\n",
      "entrypoints               0.2.3            py36hd81d71f_2  \r\n",
      "et_xmlfile                1.0.1            py36h1315bdc_0  \r\n",
      "expat                     2.2.4                h8f26bf8_1  \r\n",
      "fastcache                 1.0.2            py36h8606a76_0  \r\n",
      "fasttext                  0.8.22                    <pip>\r\n",
      "filelock                  2.0.12           py36h0d0b4fb_0  \r\n",
      "flask                     0.12.2           py36h5658096_0  \r\n",
      "flask-cors                3.0.3            py36h7387b97_0  \r\n",
      "freetype                  2.8                  h143eb01_0  \r\n",
      "future                    0.16.0                    <pip>\r\n",
      "gast                      0.2.0                     <pip>\r\n",
      "get_terminal_size         1.0.0                h7520d66_0  \r\n",
      "gettext                   0.19.8.1             hb0f4f8b_2  \r\n",
      "gevent                    1.2.2            py36ha70b9d6_0  \r\n",
      "glib                      2.53.6               ha08cb78_1  \r\n",
      "glob2                     0.5              py36h12393a9_0  \r\n",
      "gmp                       6.1.2                h4a9834d_0  \r\n",
      "gmpy2                     2.0.8            py36h7ef02cb_1  \r\n",
      "greenlet                  0.4.12           py36hf09ba7b_0  \r\n",
      "grpcio                    1.14.1                    <pip>\r\n",
      "gym                       0.10.5                    <pip>\r\n",
      "h5py                      2.7.0            py36h6400cee_1  \r\n",
      "hdf5                      1.10.1               h6090a45_0  \r\n",
      "heapdict                  1.0.0            py36h27a9ac6_0  \r\n",
      "html5lib                  0.999999999      py36h79312fd_0  \r\n",
      "hyperlink                 18.0.0                    <pip>\r\n",
      "icu                       58.2                 hea21ae5_0  \r\n",
      "idna                      2.6              py36h8628d0a_1  \r\n",
      "imageio                   2.2.0            py36h5e01289_0  \r\n",
      "imagesize                 0.7.1            py36h3495948_0  \r\n",
      "incremental               17.5.0                    <pip>\r\n",
      "intel-openmp              2018.0.0             h68bdfb3_7  \r\n",
      "ipykernel                 4.6.1            py36h3208c25_0  \r\n",
      "ipython                   6.1.0            py36hf612aae_1  \r\n",
      "ipython_genutils          0.2.0            py36h241746c_0  \r\n",
      "ipywidgets                7.0.0            py36h24d3910_0  \r\n",
      "isort                     4.2.15           py36hceb2a01_0  \r\n",
      "itsdangerous              0.24             py36h49fbb8d_1  \r\n",
      "jbig                      2.1                  h4d881f8_0  \r\n",
      "jdcal                     1.3              py36h1986823_0  \r\n",
      "jedi                      0.10.2           py36h6325097_0  \r\n",
      "jinja2                    2.9.6            py36hde4beb4_1  \r\n",
      "jpeg                      9b                   haccd157_1  \r\n",
      "jsonschema                2.6.0            py36hb385e00_0  \r\n",
      "jupyter                   1.0.0            py36h598a6cc_0  \r\n",
      "jupyter_client            5.1.0            py36hf6c435f_0  \r\n",
      "jupyter_console           5.2.0            py36hccf5b1c_1  \r\n",
      "jupyter_core              4.3.0            py36h93810fe_0  \r\n",
      "jupyterlab                0.32.1                   py36_0    conda-forge\r\n",
      "jupyterlab_launcher       0.10.5                   py36_0    conda-forge\r\n",
      "Keras                     2.2.2                     <pip>\r\n",
      "Keras-Applications        1.0.4                     <pip>\r\n",
      "Keras-Preprocessing       1.0.2                     <pip>\r\n",
      "lazy-object-proxy         1.3.1            py36h2fbbe47_0  \r\n",
      "libcxx                    4.0.1                h579ed51_0  \r\n",
      "libcxxabi                 4.0.1                hebd6815_0  \r\n",
      "libedit                   3.1                  hb4e282d_0  \r\n",
      "libffi                    3.2.1                hd939716_3  \r\n",
      "libgfortran               3.0.1                h93005f0_2  \r\n",
      "libiconv                  1.15                 h99df5da_5  \r\n",
      "libopenblas               0.2.20               hdc02c5d_7  \r\n",
      "libpng                    1.6.32               hce72d48_2  \r\n",
      "libsodium                 1.0.13               hba5e272_2  \r\n",
      "libssh2                   1.8.0                h1218725_2  \r\n",
      "libtiff                   4.0.8                h8cd0352_9  \r\n",
      "libxml2                   2.9.4                hbd0960b_5  \r\n",
      "libxslt                   1.1.29               h95a2935_5  \r\n",
      "llvmlite                  0.20.0                   py36_0  \r\n",
      "locket                    0.2.0            py36hca03003_1  \r\n",
      "lxml                      4.1.0            py36h8179fc0_0  \r\n",
      "lzo                       2.10                 hb6b8854_1  \r\n",
      "Markdown                  2.6.11                    <pip>\r\n",
      "markupsafe                1.0              py36h3a1e703_1  \r\n",
      "matplotlib                2.1.0            py36h5068139_0  \r\n",
      "mccabe                    0.6.1            py36hdaeb55d_0  \r\n",
      "mistune                   0.7.4            py36hccd6237_0  \r\n",
      "mkl                       2018.0.0             h5ef208c_6  \r\n",
      "mkl-service               1.1.2            py36h7ea6df4_4  \r\n",
      "mpc                       1.0.3                hc455b36_4  \r\n",
      "mpfr                      3.1.5                h7fa3772_1  \r\n",
      "mpmath                    0.19             py36h9185fea_2  \r\n",
      "msgpack-python            0.4.8            py36h46767b2_0  \r\n",
      "multipledispatch          0.4.9            py36hc5f92b5_0  \r\n",
      "navigator-updater         0.1.0            py36h7aee5fb_0  \r\n",
      "nbconvert                 5.3.1            py36h810822e_0  \r\n",
      "nbformat                  4.4.0            py36h827af21_0  \r\n",
      "ncurses                   6.0                  ha932d30_1  \r\n",
      "networkx                  2.0              py36hefccab9_0  \r\n",
      "ninja                     1.8.2            py36h04f5b5a_1  \r\n",
      "nltk                      3.2.4            py36h27d1ea0_0  \r\n",
      "nose                      1.3.7            py36h73fae2b_2  \r\n",
      "notebook                  5.0.0            py36h462289e_2  \r\n",
      "numba                     0.35.0              np113py36_6  \r\n",
      "numexpr                   2.6.2            py36h0f4f1da_1  \r\n",
      "numpy                     1.14.3           py36he6379a5_1  \r\n",
      "numpy                     1.15.1                    <pip>\r\n",
      "numpy-base                1.14.3           py36h7ef55bc_1  \r\n",
      "numpydoc                  0.7.0            py36he54d08e_0  \r\n",
      "odo                       0.5.1            py36hc1af34a_0  \r\n",
      "olefile                   0.44             py36ha08bf50_0  \r\n",
      "openpyxl                  2.4.8            py36he899640_1  \r\n",
      "openssl                   1.0.2p               h1de35cc_0  \r\n",
      "packaging                 16.8             py36he5e8135_0  \r\n",
      "pandas                    0.20.3           py36hd6655d8_2  \r\n",
      "pandoc                    1.19.2.1             ha5e8f32_1  \r\n",
      "pandocfilters             1.4.2            py36h3b0b094_1  \r\n",
      "partd                     0.3.8            py36hf5c4cb8_0  \r\n",
      "path.py                   10.3.1           py36hd33c240_0  \r\n",
      "pathlib2                  2.3.0            py36h877a6d8_0  \r\n",
      "patsy                     0.4.1            py36ha1b3fa5_0  \r\n",
      "pcre                      8.41                 h29eefc5_0  \r\n",
      "pep8                      1.7.0            py36hc268eb1_0  \r\n",
      "pexpect                   4.2.1            py36h3eac828_0  \r\n",
      "pickleshare               0.7.4            py36hf512f8e_0  \r\n",
      "pillow                    4.2.1            py36h0263179_0  \r\n",
      "pip                       18.0                      <pip>\r\n",
      "pip                       9.0.1            py36hbd95645_3  \r\n",
      "pkginfo                   1.4.1            py36h25bf955_0  \r\n",
      "ply                       3.10             py36h10e714e_0  \r\n",
      "prompt_toolkit            1.0.15           py36haeda067_0  \r\n",
      "protobuf                  3.6.1                     <pip>\r\n",
      "psutil                    5.4.0            py36ha052210_0  \r\n",
      "ptyprocess                0.5.2            py36he6521c3_0  \r\n",
      "py                        1.4.34           py36hecf431b_1  \r\n",
      "pyasn1                    0.4.4                     <pip>\r\n",
      "pyasn1-modules            0.2.2                     <pip>\r\n",
      "pybind11                  2.2.3                     <pip>\r\n",
      "pycodestyle               2.3.1            py36h83e8646_0  \r\n",
      "pycosat                   0.6.3                    py36_0    conda-forge\r\n",
      "pycparser                 2.18             py36h724b2fc_1  \r\n",
      "pycrypto                  2.6.1            py36h72f2894_1  \r\n",
      "pycurl                    7.43.0           py36hdb90038_3  \r\n",
      "pyflakes                  1.6.0            py36hea45e83_0  \r\n",
      "pyglet                    1.3.2                     <pip>\r\n",
      "pygments                  2.2.0            py36h240cd3f_0  \r\n",
      "PyHamcrest                1.9.0                     <pip>\r\n",
      "pylint                    1.7.4            py36hdee9077_0  \r\n",
      "pyodbc                    4.0.17           py36h5478161_0  \r\n",
      "pyopenssl                 17.2.0           py36h5d7bf08_0  \r\n",
      "pyparsing                 2.2.0            py36hb281f35_0  \r\n",
      "pyqt                      5.6.0            py36he5c6137_6  \r\n",
      "pysocks                   1.6.7            py36hfa33cec_1  \r\n",
      "pytables                  3.4.2            py36hfbd7ab0_2  \r\n",
      "pytest                    3.2.1            py36h9963153_1  \r\n",
      "python                    3.6.3                h6804ab2_0  \r\n",
      "python-dateutil           2.6.1            py36h86d2abb_1  \r\n",
      "python.app                2                py36h7fe2238_6  \r\n",
      "pytorch                   0.4.1           py36_cuda0.0_cudnn0.0_1    pytorch\r\n",
      "pytz                      2017.2           py36h2e7dfbc_1  \r\n",
      "pywavelets                0.5.2            py36h2710a04_0  \r\n",
      "pyyaml                    3.12             py36h2ba1e63_1  \r\n",
      "pyzmq                     16.0.2           py36h087ffad_2  \r\n",
      "qt                        5.6.2               h9975529_14  \r\n",
      "qtawesome                 0.4.4            py36h468c6fb_0  \r\n",
      "qtconsole                 4.3.1            py36hd96c0ff_0  \r\n",
      "qtpy                      1.3.1            py36h16bb863_0  \r\n",
      "readline                  7.0                  h81b24a6_3  \r\n",
      "requests                  2.18.4           py36h4516966_1  \r\n",
      "rope                      0.10.5           py36h5764ad1_0  \r\n",
      "ruamel_yaml               0.11.14          py36h9d7ade0_2  \r\n",
      "scikit-image              0.13.0           py36h398857d_1  \r\n",
      "scikit-learn              0.19.1           py36hffbff8c_0  \r\n",
      "scipy                     0.19.1           py36h3e758e1_3  \r\n",
      "seaborn                   0.8.0            py36h74df97e_0  \r\n",
      "service-identity          17.0.0                    <pip>\r\n",
      "setuptools                36.5.0           py36h2134326_0  \r\n",
      "simplegeneric             0.8.1            py36he5b5b09_0  \r\n",
      "singledispatch            3.4.0.3          py36hf20db9d_0  \r\n",
      "sip                       4.18.1           py36h2824476_2  \r\n",
      "six                       1.11.0           py36h0e22d5e_1  \r\n",
      "snowballstemmer           1.2.1            py36h6c7b616_0  \r\n",
      "sortedcollections         0.5.3            py36he9c3ed6_0  \r\n",
      "sortedcontainers          1.5.7            py36ha982688_0  \r\n",
      "sphinx                    1.6.3            py36hcd1b3e7_0  \r\n",
      "sphinxcontrib             1.0              py36h9364dc8_1  \r\n",
      "sphinxcontrib-websupport  1.0.1            py36h92f4a7a_1  \r\n",
      "spyder                    3.2.4            py36h908396f_0  \r\n",
      "sqlalchemy                1.1.13           py36h156b851_0  \r\n",
      "sqlite                    3.20.1               h900c3b0_1  \r\n",
      "statsmodels               0.8.0            py36h9c68fc9_0  \r\n",
      "sympy                     1.1.1            py36h7f3cf04_0  \r\n",
      "tblib                     1.3.2            py36hda67792_0  \r\n",
      "tensorboard               1.10.0                    <pip>\r\n",
      "tensorflow                1.10.1                    <pip>\r\n",
      "termcolor                 1.1.0                     <pip>\r\n",
      "terminado                 0.6              py36h656782e_0  \r\n",
      "testpath                  0.3.1            py36h625a49b_0  \r\n",
      "tk                        8.6.7                hcdce994_1  \r\n",
      "toolz                     0.8.2            py36h7b95164_0  \r\n",
      "torchvision               0.2.1                    py36_1    pytorch\r\n",
      "tornado                   4.5.2            py36h468dda9_0  \r\n",
      "traitlets                 4.3.2            py36h65bd3ce_0  \r\n",
      "Twisted                   18.7.0                    <pip>\r\n",
      "txaio                     18.8.1                    <pip>\r\n",
      "typing                    3.6.2            py36haa2d9ef_0  \r\n",
      "unicodecsv                0.14.1           py36he531d66_0  \r\n",
      "unixodbc                  2.3.4                h4cb4dde_1  \r\n",
      "urllib3                   1.22             py36h68b9469_0  \r\n",
      "version-information       1.0.3                     <pip>\r\n",
      "virtualenv                16.0.0                    <pip>\r\n",
      "watson-developer-cloud    1.7.1                     <pip>\r\n",
      "wcwidth                   0.1.7            py36h8c6ec74_0  \r\n",
      "webencodings              0.5.1            py36h3b9701d_1  \r\n",
      "werkzeug                  0.12.2           py36h168efa1_0  \r\n",
      "wheel                     0.29.0           py36h3597b6d_1  \r\n",
      "widgetsnbextension        3.0.2            py36h91f43ea_1  \r\n",
      "wrapt                     1.10.11          py36hc29e774_0  \r\n",
      "xlrd                      1.1.0            py36h336f4a2_1  \r\n",
      "xlsxwriter                1.0.2            py36h3736301_0  \r\n",
      "xlwings                   0.11.4           py36hc75f156_0  \r\n",
      "xlwt                      1.2.0            py36h5ad1178_0  \r\n",
      "xz                        5.2.3                ha24016e_1  \r\n",
      "yaml                      0.1.7                hff548bb_1  \r\n",
      "zeromq                    4.2.2                h131e0f7_1  \r\n",
      "zict                      0.1.3            py36h71da714_0  \r\n",
      "zlib                      1.2.11               h60db283_1  \r\n",
      "zope.interface            4.5.0                     <pip>\r\n"
     ]
    }
   ],
   "source": [
    "!conda list"
   ]
  },
  {
   "cell_type": "code",
   "execution_count": 65,
   "metadata": {
    "collapsed": true
   },
   "outputs": [],
   "source": [
    "pd.set_option(\"max_rows\",6)"
   ]
  },
  {
   "cell_type": "code",
   "execution_count": 66,
   "metadata": {
    "collapsed": true
   },
   "outputs": [],
   "source": [
    "from sklearn import datasets\n",
    "from pprint import pprint"
   ]
  },
  {
   "cell_type": "code",
   "execution_count": 67,
   "metadata": {},
   "outputs": [],
   "source": [
    "ds = datasets.load_diabetes()"
   ]
  },
  {
   "cell_type": "code",
   "execution_count": 68,
   "metadata": {},
   "outputs": [
    {
     "data": {
      "text/plain": [
       "sklearn.utils.Bunch"
      ]
     },
     "execution_count": 68,
     "metadata": {},
     "output_type": "execute_result"
    }
   ],
   "source": [
    "type(ds)"
   ]
  },
  {
   "cell_type": "code",
   "execution_count": 69,
   "metadata": {},
   "outputs": [],
   "source": [
    "data = ds.data"
   ]
  },
  {
   "cell_type": "code",
   "execution_count": 70,
   "metadata": {},
   "outputs": [
    {
     "data": {
      "text/plain": [
       "numpy.ndarray"
      ]
     },
     "execution_count": 70,
     "metadata": {},
     "output_type": "execute_result"
    }
   ],
   "source": [
    "type(data)"
   ]
  },
  {
   "cell_type": "code",
   "execution_count": 71,
   "metadata": {},
   "outputs": [],
   "source": [
    "data_df = pd.DataFrame(data)"
   ]
  },
  {
   "cell_type": "code",
   "execution_count": 72,
   "metadata": {},
   "outputs": [
    {
     "data": {
      "text/html": [
       "<div>\n",
       "<style>\n",
       "    .dataframe thead tr:only-child th {\n",
       "        text-align: right;\n",
       "    }\n",
       "\n",
       "    .dataframe thead th {\n",
       "        text-align: left;\n",
       "    }\n",
       "\n",
       "    .dataframe tbody tr th {\n",
       "        vertical-align: top;\n",
       "    }\n",
       "</style>\n",
       "<table border=\"1\" class=\"dataframe\">\n",
       "  <thead>\n",
       "    <tr style=\"text-align: right;\">\n",
       "      <th></th>\n",
       "      <th>0</th>\n",
       "      <th>1</th>\n",
       "      <th>2</th>\n",
       "      <th>3</th>\n",
       "      <th>4</th>\n",
       "      <th>5</th>\n",
       "      <th>6</th>\n",
       "      <th>7</th>\n",
       "      <th>8</th>\n",
       "      <th>9</th>\n",
       "    </tr>\n",
       "  </thead>\n",
       "  <tbody>\n",
       "    <tr>\n",
       "      <th>0</th>\n",
       "      <td>0.038076</td>\n",
       "      <td>0.050680</td>\n",
       "      <td>0.061696</td>\n",
       "      <td>0.021872</td>\n",
       "      <td>-0.044223</td>\n",
       "      <td>-0.034821</td>\n",
       "      <td>-0.043401</td>\n",
       "      <td>-0.002592</td>\n",
       "      <td>0.019908</td>\n",
       "      <td>-0.017646</td>\n",
       "    </tr>\n",
       "    <tr>\n",
       "      <th>1</th>\n",
       "      <td>-0.001882</td>\n",
       "      <td>-0.044642</td>\n",
       "      <td>-0.051474</td>\n",
       "      <td>-0.026328</td>\n",
       "      <td>-0.008449</td>\n",
       "      <td>-0.019163</td>\n",
       "      <td>0.074412</td>\n",
       "      <td>-0.039493</td>\n",
       "      <td>-0.068330</td>\n",
       "      <td>-0.092204</td>\n",
       "    </tr>\n",
       "    <tr>\n",
       "      <th>2</th>\n",
       "      <td>0.085299</td>\n",
       "      <td>0.050680</td>\n",
       "      <td>0.044451</td>\n",
       "      <td>-0.005671</td>\n",
       "      <td>-0.045599</td>\n",
       "      <td>-0.034194</td>\n",
       "      <td>-0.032356</td>\n",
       "      <td>-0.002592</td>\n",
       "      <td>0.002864</td>\n",
       "      <td>-0.025930</td>\n",
       "    </tr>\n",
       "    <tr>\n",
       "      <th>3</th>\n",
       "      <td>-0.089063</td>\n",
       "      <td>-0.044642</td>\n",
       "      <td>-0.011595</td>\n",
       "      <td>-0.036656</td>\n",
       "      <td>0.012191</td>\n",
       "      <td>0.024991</td>\n",
       "      <td>-0.036038</td>\n",
       "      <td>0.034309</td>\n",
       "      <td>0.022692</td>\n",
       "      <td>-0.009362</td>\n",
       "    </tr>\n",
       "    <tr>\n",
       "      <th>4</th>\n",
       "      <td>0.005383</td>\n",
       "      <td>-0.044642</td>\n",
       "      <td>-0.036385</td>\n",
       "      <td>0.021872</td>\n",
       "      <td>0.003935</td>\n",
       "      <td>0.015596</td>\n",
       "      <td>0.008142</td>\n",
       "      <td>-0.002592</td>\n",
       "      <td>-0.031991</td>\n",
       "      <td>-0.046641</td>\n",
       "    </tr>\n",
       "  </tbody>\n",
       "</table>\n",
       "</div>"
      ],
      "text/plain": [
       "          0         1         2         3         4         5         6  \\\n",
       "0  0.038076  0.050680  0.061696  0.021872 -0.044223 -0.034821 -0.043401   \n",
       "1 -0.001882 -0.044642 -0.051474 -0.026328 -0.008449 -0.019163  0.074412   \n",
       "2  0.085299  0.050680  0.044451 -0.005671 -0.045599 -0.034194 -0.032356   \n",
       "3 -0.089063 -0.044642 -0.011595 -0.036656  0.012191  0.024991 -0.036038   \n",
       "4  0.005383 -0.044642 -0.036385  0.021872  0.003935  0.015596  0.008142   \n",
       "\n",
       "          7         8         9  \n",
       "0 -0.002592  0.019908 -0.017646  \n",
       "1 -0.039493 -0.068330 -0.092204  \n",
       "2 -0.002592  0.002864 -0.025930  \n",
       "3  0.034309  0.022692 -0.009362  \n",
       "4 -0.002592 -0.031991 -0.046641  "
      ]
     },
     "execution_count": 72,
     "metadata": {},
     "output_type": "execute_result"
    }
   ],
   "source": [
    "data_df.head()"
   ]
  },
  {
   "cell_type": "code",
   "execution_count": 55,
   "metadata": {},
   "outputs": [
    {
     "name": "stdout",
     "output_type": "stream",
     "text": [
      "('Diabetes dataset\\n'\n",
      " '================\\n'\n",
      " '\\n'\n",
      " 'Notes\\n'\n",
      " '-----\\n'\n",
      " '\\n'\n",
      " 'Ten baseline variables, age, sex, body mass index, average blood\\n'\n",
      " 'pressure, and six blood serum measurements were obtained for each of n =\\n'\n",
      " '442 diabetes patients, as well as the response of interest, a\\n'\n",
      " 'quantitative measure of disease progression one year after baseline.\\n'\n",
      " '\\n'\n",
      " 'Data Set Characteristics:\\n'\n",
      " '\\n'\n",
      " '  :Number of Instances: 442\\n'\n",
      " '\\n'\n",
      " '  :Number of Attributes: First 10 columns are numeric predictive values\\n'\n",
      " '\\n'\n",
      " '  :Target: Column 11 is a quantitative measure of disease progression one '\n",
      " 'year after baseline\\n'\n",
      " '\\n'\n",
      " '  :Attributes:\\n'\n",
      " '    :Age:\\n'\n",
      " '    :Sex:\\n'\n",
      " '    :Body mass index:\\n'\n",
      " '    :Average blood pressure:\\n'\n",
      " '    :S1:\\n'\n",
      " '    :S2:\\n'\n",
      " '    :S3:\\n'\n",
      " '    :S4:\\n'\n",
      " '    :S5:\\n'\n",
      " '    :S6:\\n'\n",
      " '\\n'\n",
      " 'Note: Each of these 10 feature variables have been mean centered and scaled '\n",
      " 'by the standard deviation times `n_samples` (i.e. the sum of squares of each '\n",
      " 'column totals 1).\\n'\n",
      " '\\n'\n",
      " 'Source URL:\\n'\n",
      " 'http://www4.stat.ncsu.edu/~boos/var.select/diabetes.html\\n'\n",
      " '\\n'\n",
      " 'For more information see:\\n'\n",
      " 'Bradley Efron, Trevor Hastie, Iain Johnstone and Robert Tibshirani (2004) '\n",
      " '\"Least Angle Regression,\" Annals of Statistics (with discussion), 407-499.\\n'\n",
      " '(http://web.stanford.edu/~hastie/Papers/LARS/LeastAngle_2002.pdf)\\n')\n"
     ]
    }
   ],
   "source": [
    "pprint(ds.DESCR)"
   ]
  },
  {
   "cell_type": "code",
   "execution_count": 61,
   "metadata": {},
   "outputs": [
    {
     "data": {
      "text/plain": [
       "['I', 'have', 'had', 'a', 'long', 'day', 'today']"
      ]
     },
     "execution_count": 61,
     "metadata": {},
     "output_type": "execute_result"
    }
   ],
   "source": [
    "line = \"I have had a long day today\"\n",
    "line.split()"
   ]
  },
  {
   "cell_type": "code",
   "execution_count": 73,
   "metadata": {},
   "outputs": [
    {
     "data": {
      "text/html": [
       "<div>\n",
       "<style>\n",
       "    .dataframe thead tr:only-child th {\n",
       "        text-align: right;\n",
       "    }\n",
       "\n",
       "    .dataframe thead th {\n",
       "        text-align: left;\n",
       "    }\n",
       "\n",
       "    .dataframe tbody tr th {\n",
       "        vertical-align: top;\n",
       "    }\n",
       "</style>\n",
       "<table border=\"1\" class=\"dataframe\">\n",
       "  <thead>\n",
       "    <tr style=\"text-align: right;\">\n",
       "      <th></th>\n",
       "      <th>0</th>\n",
       "      <th>1</th>\n",
       "      <th>2</th>\n",
       "      <th>3</th>\n",
       "      <th>4</th>\n",
       "      <th>5</th>\n",
       "      <th>6</th>\n",
       "      <th>7</th>\n",
       "      <th>8</th>\n",
       "      <th>9</th>\n",
       "    </tr>\n",
       "  </thead>\n",
       "  <tbody>\n",
       "    <tr>\n",
       "      <th>0</th>\n",
       "      <td>0.038076</td>\n",
       "      <td>0.050680</td>\n",
       "      <td>0.061696</td>\n",
       "      <td>0.021872</td>\n",
       "      <td>-0.044223</td>\n",
       "      <td>-0.034821</td>\n",
       "      <td>-0.043401</td>\n",
       "      <td>-0.002592</td>\n",
       "      <td>0.019908</td>\n",
       "      <td>-0.017646</td>\n",
       "    </tr>\n",
       "    <tr>\n",
       "      <th>1</th>\n",
       "      <td>-0.001882</td>\n",
       "      <td>-0.044642</td>\n",
       "      <td>-0.051474</td>\n",
       "      <td>-0.026328</td>\n",
       "      <td>-0.008449</td>\n",
       "      <td>-0.019163</td>\n",
       "      <td>0.074412</td>\n",
       "      <td>-0.039493</td>\n",
       "      <td>-0.068330</td>\n",
       "      <td>-0.092204</td>\n",
       "    </tr>\n",
       "    <tr>\n",
       "      <th>2</th>\n",
       "      <td>0.085299</td>\n",
       "      <td>0.050680</td>\n",
       "      <td>0.044451</td>\n",
       "      <td>-0.005671</td>\n",
       "      <td>-0.045599</td>\n",
       "      <td>-0.034194</td>\n",
       "      <td>-0.032356</td>\n",
       "      <td>-0.002592</td>\n",
       "      <td>0.002864</td>\n",
       "      <td>-0.025930</td>\n",
       "    </tr>\n",
       "    <tr>\n",
       "      <th>3</th>\n",
       "      <td>-0.089063</td>\n",
       "      <td>-0.044642</td>\n",
       "      <td>-0.011595</td>\n",
       "      <td>-0.036656</td>\n",
       "      <td>0.012191</td>\n",
       "      <td>0.024991</td>\n",
       "      <td>-0.036038</td>\n",
       "      <td>0.034309</td>\n",
       "      <td>0.022692</td>\n",
       "      <td>-0.009362</td>\n",
       "    </tr>\n",
       "    <tr>\n",
       "      <th>4</th>\n",
       "      <td>0.005383</td>\n",
       "      <td>-0.044642</td>\n",
       "      <td>-0.036385</td>\n",
       "      <td>0.021872</td>\n",
       "      <td>0.003935</td>\n",
       "      <td>0.015596</td>\n",
       "      <td>0.008142</td>\n",
       "      <td>-0.002592</td>\n",
       "      <td>-0.031991</td>\n",
       "      <td>-0.046641</td>\n",
       "    </tr>\n",
       "  </tbody>\n",
       "</table>\n",
       "</div>"
      ],
      "text/plain": [
       "          0         1         2         3         4         5         6  \\\n",
       "0  0.038076  0.050680  0.061696  0.021872 -0.044223 -0.034821 -0.043401   \n",
       "1 -0.001882 -0.044642 -0.051474 -0.026328 -0.008449 -0.019163  0.074412   \n",
       "2  0.085299  0.050680  0.044451 -0.005671 -0.045599 -0.034194 -0.032356   \n",
       "3 -0.089063 -0.044642 -0.011595 -0.036656  0.012191  0.024991 -0.036038   \n",
       "4  0.005383 -0.044642 -0.036385  0.021872  0.003935  0.015596  0.008142   \n",
       "\n",
       "          7         8         9  \n",
       "0 -0.002592  0.019908 -0.017646  \n",
       "1 -0.039493 -0.068330 -0.092204  \n",
       "2 -0.002592  0.002864 -0.025930  \n",
       "3  0.034309  0.022692 -0.009362  \n",
       "4 -0.002592 -0.031991 -0.046641  "
      ]
     },
     "execution_count": 73,
     "metadata": {},
     "output_type": "execute_result"
    }
   ],
   "source": [
    "data_df.head()"
   ]
  },
  {
   "cell_type": "code",
   "execution_count": 80,
   "metadata": {},
   "outputs": [
    {
     "data": {
      "text/plain": [
       "Index      80\n",
       "0        3536\n",
       "1        3536\n",
       "         ... \n",
       "7        3536\n",
       "8        3536\n",
       "9        3536\n",
       "Length: 11, dtype: int64"
      ]
     },
     "execution_count": 80,
     "metadata": {},
     "output_type": "execute_result"
    }
   ],
   "source": [
    "data_df.memory_usage(deep=True)"
   ]
  },
  {
   "cell_type": "code",
   "execution_count": 87,
   "metadata": {},
   "outputs": [
    {
     "data": {
      "text/html": [
       "<div>\n",
       "<style>\n",
       "    .dataframe thead tr:only-child th {\n",
       "        text-align: right;\n",
       "    }\n",
       "\n",
       "    .dataframe thead th {\n",
       "        text-align: left;\n",
       "    }\n",
       "\n",
       "    .dataframe tbody tr th {\n",
       "        vertical-align: top;\n",
       "    }\n",
       "</style>\n",
       "<table border=\"1\" class=\"dataframe\">\n",
       "  <thead>\n",
       "    <tr style=\"text-align: right;\">\n",
       "      <th></th>\n",
       "      <th>0</th>\n",
       "      <th>1</th>\n",
       "      <th>2</th>\n",
       "      <th>3</th>\n",
       "      <th>4</th>\n",
       "      <th>5</th>\n",
       "    </tr>\n",
       "  </thead>\n",
       "  <tbody>\n",
       "    <tr>\n",
       "      <th>0</th>\n",
       "      <td>0.038076</td>\n",
       "      <td>0.050680</td>\n",
       "      <td>0.061696</td>\n",
       "      <td>0.021872</td>\n",
       "      <td>-0.044223</td>\n",
       "      <td>-0.034821</td>\n",
       "    </tr>\n",
       "    <tr>\n",
       "      <th>1</th>\n",
       "      <td>-0.001882</td>\n",
       "      <td>-0.044642</td>\n",
       "      <td>-0.051474</td>\n",
       "      <td>-0.026328</td>\n",
       "      <td>-0.008449</td>\n",
       "      <td>-0.019163</td>\n",
       "    </tr>\n",
       "    <tr>\n",
       "      <th>2</th>\n",
       "      <td>0.085299</td>\n",
       "      <td>0.050680</td>\n",
       "      <td>0.044451</td>\n",
       "      <td>-0.005671</td>\n",
       "      <td>-0.045599</td>\n",
       "      <td>-0.034194</td>\n",
       "    </tr>\n",
       "    <tr>\n",
       "      <th>...</th>\n",
       "      <td>...</td>\n",
       "      <td>...</td>\n",
       "      <td>...</td>\n",
       "      <td>...</td>\n",
       "      <td>...</td>\n",
       "      <td>...</td>\n",
       "    </tr>\n",
       "    <tr>\n",
       "      <th>439</th>\n",
       "      <td>0.041708</td>\n",
       "      <td>0.050680</td>\n",
       "      <td>-0.015906</td>\n",
       "      <td>0.017282</td>\n",
       "      <td>-0.037344</td>\n",
       "      <td>-0.013840</td>\n",
       "    </tr>\n",
       "    <tr>\n",
       "      <th>440</th>\n",
       "      <td>-0.045472</td>\n",
       "      <td>-0.044642</td>\n",
       "      <td>0.039062</td>\n",
       "      <td>0.001215</td>\n",
       "      <td>0.016318</td>\n",
       "      <td>0.015283</td>\n",
       "    </tr>\n",
       "    <tr>\n",
       "      <th>441</th>\n",
       "      <td>-0.045472</td>\n",
       "      <td>-0.044642</td>\n",
       "      <td>-0.073030</td>\n",
       "      <td>-0.081414</td>\n",
       "      <td>0.083740</td>\n",
       "      <td>0.027809</td>\n",
       "    </tr>\n",
       "  </tbody>\n",
       "</table>\n",
       "<p>442 rows × 6 columns</p>\n",
       "</div>"
      ],
      "text/plain": [
       "            0         1         2         3         4         5\n",
       "0    0.038076  0.050680  0.061696  0.021872 -0.044223 -0.034821\n",
       "1   -0.001882 -0.044642 -0.051474 -0.026328 -0.008449 -0.019163\n",
       "2    0.085299  0.050680  0.044451 -0.005671 -0.045599 -0.034194\n",
       "..        ...       ...       ...       ...       ...       ...\n",
       "439  0.041708  0.050680 -0.015906  0.017282 -0.037344 -0.013840\n",
       "440 -0.045472 -0.044642  0.039062  0.001215  0.016318  0.015283\n",
       "441 -0.045472 -0.044642 -0.073030 -0.081414  0.083740  0.027809\n",
       "\n",
       "[442 rows x 6 columns]"
      ]
     },
     "execution_count": 87,
     "metadata": {},
     "output_type": "execute_result"
    }
   ],
   "source": [
    "data_df[[i for i in range(0,6)]]"
   ]
  },
  {
   "cell_type": "code",
   "execution_count": 86,
   "metadata": {},
   "outputs": [
    {
     "data": {
      "text/plain": [
       "[0, 1, 2, 3, 4, 5]"
      ]
     },
     "execution_count": 86,
     "metadata": {},
     "output_type": "execute_result"
    }
   ],
   "source": [
    "[i for i in range(0,6)]"
   ]
  },
  {
   "cell_type": "code",
   "execution_count": 90,
   "metadata": {},
   "outputs": [
    {
     "data": {
      "text/html": [
       "<div>\n",
       "<style>\n",
       "    .dataframe thead tr:only-child th {\n",
       "        text-align: right;\n",
       "    }\n",
       "\n",
       "    .dataframe thead th {\n",
       "        text-align: left;\n",
       "    }\n",
       "\n",
       "    .dataframe tbody tr th {\n",
       "        vertical-align: top;\n",
       "    }\n",
       "</style>\n",
       "<table border=\"1\" class=\"dataframe\">\n",
       "  <thead>\n",
       "    <tr style=\"text-align: right;\">\n",
       "      <th></th>\n",
       "      <th>0</th>\n",
       "      <th>4</th>\n",
       "    </tr>\n",
       "  </thead>\n",
       "  <tbody>\n",
       "    <tr>\n",
       "      <th>0</th>\n",
       "      <td>0.038076</td>\n",
       "      <td>-0.044223</td>\n",
       "    </tr>\n",
       "    <tr>\n",
       "      <th>1</th>\n",
       "      <td>-0.001882</td>\n",
       "      <td>-0.008449</td>\n",
       "    </tr>\n",
       "    <tr>\n",
       "      <th>2</th>\n",
       "      <td>0.085299</td>\n",
       "      <td>-0.045599</td>\n",
       "    </tr>\n",
       "    <tr>\n",
       "      <th>3</th>\n",
       "      <td>-0.089063</td>\n",
       "      <td>0.012191</td>\n",
       "    </tr>\n",
       "    <tr>\n",
       "      <th>4</th>\n",
       "      <td>0.005383</td>\n",
       "      <td>0.003935</td>\n",
       "    </tr>\n",
       "    <tr>\n",
       "      <th>5</th>\n",
       "      <td>-0.092695</td>\n",
       "      <td>-0.068991</td>\n",
       "    </tr>\n",
       "  </tbody>\n",
       "</table>\n",
       "</div>"
      ],
      "text/plain": [
       "          0         4\n",
       "0  0.038076 -0.044223\n",
       "1 -0.001882 -0.008449\n",
       "2  0.085299 -0.045599\n",
       "3 -0.089063  0.012191\n",
       "4  0.005383  0.003935\n",
       "5 -0.092695 -0.068991"
      ]
     },
     "execution_count": 90,
     "metadata": {},
     "output_type": "execute_result"
    }
   ],
   "source": [
    "data_df.loc[:5,(0,4)]"
   ]
  },
  {
   "cell_type": "code",
   "execution_count": 93,
   "metadata": {
    "collapsed": true
   },
   "outputs": [],
   "source": [
    "# lambda\n",
    "\n",
    "a = lambda x: x**2"
   ]
  },
  {
   "cell_type": "code",
   "execution_count": 94,
   "metadata": {},
   "outputs": [
    {
     "data": {
      "text/plain": [
       "9"
      ]
     },
     "execution_count": 94,
     "metadata": {},
     "output_type": "execute_result"
    }
   ],
   "source": [
    "a(3)"
   ]
  },
  {
   "cell_type": "code",
   "execution_count": null,
   "metadata": {
    "collapsed": true
   },
   "outputs": [],
   "source": []
  }
 ],
 "metadata": {
  "kernelspec": {
   "display_name": "Python 3",
   "language": "python",
   "name": "python3"
  },
  "language_info": {
   "codemirror_mode": {
    "name": "ipython",
    "version": 3
   },
   "file_extension": ".py",
   "mimetype": "text/x-python",
   "name": "python",
   "nbconvert_exporter": "python",
   "pygments_lexer": "ipython3",
   "version": "3.6.3"
  }
 },
 "nbformat": 4,
 "nbformat_minor": 2
}
